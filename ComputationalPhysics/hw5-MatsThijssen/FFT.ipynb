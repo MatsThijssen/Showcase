{
 "cells": [
  {
   "cell_type": "code",
   "execution_count": 244,
   "metadata": {},
   "outputs": [],
   "source": [
    "import numpy as np\n",
    "import time\n",
    "def DFT(x):\n",
    "    x=np.asarray(x)\n",
    "    N=x.shape[0]\n",
    "    n=np.arange(N)\n",
    "    k=n.reshape(N,1)\n",
    "    M=np.exp(-2j*np.pi*k*n/N)\n",
    "    return(np.dot(M,x))\n",
    "\n",
    "def iDFT(x):\n",
    "    x=np.asarray(x)\n",
    "    N=x.shape[0]\n",
    "    n=np.arange(N)\n",
    "    k=n.reshape(N,1)\n",
    "    M=np.exp(2j*np.pi*k*n/N)\n",
    "    return((1/N)*np.dot(M,x))\n",
    "\n",
    "def FFT(x):\n",
    "    x=np.asarray(x)\n",
    "    N=x.shape[0]\n",
    "    if N==1:\n",
    "        return x\n",
    "    else:\n",
    "        x_even=FFT(x[::2])\n",
    "        x_odd=FFT(x[1::2])\n",
    "        factor = np.exp(-2j * np.pi * np.arange(N) / N)\n",
    "        return np.concatenate([x_even + factor[:N / 2] * x_odd,\n",
    "                               x_even + factor[N / 2:] * x_odd])\n",
    "    \n",
    "def iFFTs(x):\n",
    "    x=np.asarray(x)\n",
    "    N=x.shape[0]\n",
    "    if N==1:\n",
    "        return x\n",
    "    else:\n",
    "        x_even=iFFTs(x[::2])\n",
    "        x_odd=iFFTs(x[1::2])\n",
    "        factor = np.exp(2j * np.pi * np.arange(N) / N)\n",
    "        \n",
    "        return np.concatenate([x_even + factor[:N / 2] * x_odd,\n",
    "                                x_even + factor[N / 2:] * x_odd])\n",
    "def iFFT(x):\n",
    "    x=np.asarray(x)\n",
    "    N=x.shape[0]\n",
    "    result=iFFTs(x)\n",
    "    return result/N"
   ]
  },
  {
   "cell_type": "code",
   "execution_count": 230,
   "metadata": {},
   "outputs": [
    {
     "name": "stderr",
     "output_type": "stream",
     "text": [
      "/home/mats/anaconda3/lib/python3.6/site-packages/ipykernel_launcher.py:28: VisibleDeprecationWarning: using a non-integer number instead of an integer will result in an error in the future\n",
      "/home/mats/anaconda3/lib/python3.6/site-packages/ipykernel_launcher.py:29: VisibleDeprecationWarning: using a non-integer number instead of an integer will result in an error in the future\n"
     ]
    }
   ],
   "source": [
    "start=5\n",
    "end=14\n",
    "size=end-start\n",
    "fft_time=np.empty(size)\n",
    "dft_time=np.empty(size)\n",
    "np_time=np.empty(size)\n",
    "NN=np.empty(size)\n",
    "for n in range(start,end):\n",
    "    i=n-start\n",
    "    x=np.random.random(2**n)\n",
    "    NN[i]=2**n\n",
    "    t1=time.time()\n",
    "    FFT(x)\n",
    "    t2=time.time()\n",
    "    fft_time[i]=t2-t1\n",
    "    t1=time.time()\n",
    "    DFT(x)\n",
    "    t2=time.time()\n",
    "    dft_time[i]=t2-t1\n",
    "    t1=time.time()\n",
    "    np.fft.fft(x)\n",
    "    t2=time.time()\n",
    "    np_time[i]=t2-t1"
   ]
  },
  {
   "cell_type": "code",
   "execution_count": 226,
   "metadata": {
    "collapsed": true
   },
   "outputs": [],
   "source": [
    "import matplotlib.pyplot as plt"
   ]
  },
  {
   "cell_type": "code",
   "execution_count": 249,
   "metadata": {},
   "outputs": [
    {
     "name": "stdout",
     "output_type": "stream",
     "text": [
      "953 ms ± 3.4 ms per loop (mean ± std. dev. of 7 runs, 1 loop each)\n"
     ]
    }
   ],
   "source": [
    "x=np.random.random(2**11)\n",
    "%timeit DFT(x)"
   ]
  },
  {
   "cell_type": "code",
   "execution_count": 241,
   "metadata": {
    "scrolled": true
   },
   "outputs": [
    {
     "data": {
      "image/png": "[encoded data removed]",
      "text/plain": [
       "<matplotlib.figure.Figure at 0x7fd7381d23c8>"
      ]
     },
     "metadata": {},
     "output_type": "display_data"
    }
   ],
   "source": [
    "\n",
    "DFT,FFT,NP_FFT=plt.loglog(NN, dft_time,'ro',NN,fft_time,'go',NN,np_time,'bo')\n",
    "plt.title('Time for FT-schemes')\n",
    "plt.legend([DFT,FFT,NP_FFT],[\"DFT\",\"FFT\",\"NumPy FFT\"])\n",
    "plt.xlabel(\"log(N)\")\n",
    "plt.ylabel(\"log(t)\")\n",
    "plt.show()"
   ]
  },
  {
   "cell_type": "code",
   "execution_count": 198,
   "metadata": {},
   "outputs": [
    {
     "name": "stderr",
     "output_type": "stream",
     "text": [
      "/home/mats/anaconda3/lib/python3.6/site-packages/ipykernel_launcher.py:27: VisibleDeprecationWarning: using a non-integer number instead of an integer will result in an error in the future\n",
      "/home/mats/anaconda3/lib/python3.6/site-packages/ipykernel_launcher.py:28: VisibleDeprecationWarning: using a non-integer number instead of an integer will result in an error in the future\n",
      "/home/mats/anaconda3/lib/python3.6/site-packages/ipykernel_launcher.py:40: VisibleDeprecationWarning: using a non-integer number instead of an integer will result in an error in the future\n",
      "/home/mats/anaconda3/lib/python3.6/site-packages/ipykernel_launcher.py:41: VisibleDeprecationWarning: using a non-integer number instead of an integer will result in an error in the future\n"
     ]
    },
    {
     "name": "stdout",
     "output_type": "stream",
     "text": [
      "220 ms ± 1.92 ms per loop (mean ± std. dev. of 7 runs, 1 loop each)\n"
     ]
    },
    {
     "name": "stderr",
     "output_type": "stream",
     "text": [
      "/home/mats/anaconda3/lib/python3.6/site-packages/ipykernel_launcher.py:27: VisibleDeprecationWarning: using a non-integer number instead of an integer will result in an error in the future\n",
      "/home/mats/anaconda3/lib/python3.6/site-packages/ipykernel_launcher.py:28: VisibleDeprecationWarning: using a non-integer number instead of an integer will result in an error in the future\n"
     ]
    },
    {
     "name": "stdout",
     "output_type": "stream",
     "text": [
      "48.7 ms ± 1.36 ms per loop (mean ± std. dev. of 7 runs, 10 loops each)\n",
      "91.5 µs ± 3.64 µs per loop (mean ± std. dev. of 7 runs, 10000 loops each)\n"
     ]
    }
   ],
   "source": [
    "\n",
    "x=np.random.random(1024)\n",
    "a=iFFT(FFT(x))\n",
    "np.allclose(a,x)\n",
    "%timeit DFT(x)\n",
    "%timeit FFT(x)\n",
    "%timeit np.fft.fft(x)\n"
   ]
  },
  {
   "cell_type": "code",
   "execution_count": 213,
   "metadata": {},
   "outputs": [
    {
     "data": {
      "text/plain": [
       "1509858638.8068042"
      ]
     },
     "execution_count": 213,
     "metadata": {},
     "output_type": "execute_result"
    }
   ],
   "source": []
  },
  {
   "cell_type": "code",
   "execution_count": 195,
   "metadata": {},
   "outputs": [
    {
     "name": "stderr",
     "output_type": "stream",
     "text": [
      "/home/mats/anaconda3/lib/python3.6/site-packages/ipykernel_launcher.py:27: VisibleDeprecationWarning: using a non-integer number instead of an integer will result in an error in the future\n",
      "/home/mats/anaconda3/lib/python3.6/site-packages/ipykernel_launcher.py:28: VisibleDeprecationWarning: using a non-integer number instead of an integer will result in an error in the future\n",
      "/home/mats/anaconda3/lib/python3.6/site-packages/ipykernel_launcher.py:40: VisibleDeprecationWarning: using a non-integer number instead of an integer will result in an error in the future\n",
      "/home/mats/anaconda3/lib/python3.6/site-packages/ipykernel_launcher.py:41: VisibleDeprecationWarning: using a non-integer number instead of an integer will result in an error in the future\n"
     ]
    },
    {
     "data": {
      "text/plain": [
       "array([ 1. -4.05741625e-16j,  2. -9.38587363e-17j,  3. -8.41170949e-17j,\n",
       "        4. +2.16323416e-16j])"
      ]
     },
     "execution_count": 195,
     "metadata": {},
     "output_type": "execute_result"
    }
   ],
   "source": [
    "iFFT(FFT([1,2,3,4]))"
   ]
  },
  {
   "cell_type": "code",
   "execution_count": null,
   "metadata": {
    "collapsed": true
   },
   "outputs": [],
   "source": []
  },
  {
   "cell_type": "code",
   "execution_count": 251,
   "metadata": {},
   "outputs": [
    {
     "name": "stdout",
     "output_type": "stream",
     "text": [
      "89.3 µs ± 1.98 µs per loop (mean ± std. dev. of 7 runs, 10000 loops each)\n"
     ]
    }
   ],
   "source": [
    "x=np.random.random(1024)\n",
    "%timeit np.fft.fft(x)"
   ]
  },
  {
   "cell_type": "code",
   "execution_count": null,
   "metadata": {
    "collapsed": true
   },
   "outputs": [],
   "source": []
  }
 ],
 "metadata": {
  "kernelspec": {
   "display_name": "Python 3",
   "language": "python",
   "name": "python3"
  },
  "language_info": {
   "codemirror_mode": {
    "name": "ipython",
    "version": 3
   },
   "file_extension": ".py",
   "mimetype": "text/x-python",
   "name": "python",
   "nbconvert_exporter": "python",
   "pygments_lexer": "ipython3",
   "version": "3.6.1"
  }
 },
 "nbformat": 4,
 "nbformat_minor": 2
}
