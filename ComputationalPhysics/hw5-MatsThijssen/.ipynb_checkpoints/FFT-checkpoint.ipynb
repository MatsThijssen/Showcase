{
 "cells": [
  {
   "cell_type": "code",
   "execution_count": 191,
   "metadata": {},
   "outputs": [],
   "source": [
    "import numpy as np\n",
    "def DFT(x):\n",
    "    x=np.asarray(x)\n",
    "    N=x.shape[0]\n",
    "    n=np.arange(N)\n",
    "    k=n.reshape(N,1)\n",
    "    M=np.exp(-2j*np.pi*k*n/N)\n",
    "    return(np.dot(M,x))\n",
    "\n",
    "def iDFT(x):\n",
    "    x=np.asarray(x)\n",
    "    N=x.shape[0]\n",
    "    n=np.arange(N)\n",
    "    k=n.reshape(N,1)\n",
    "    M=np.exp(2j*np.pi*k*n/N)\n",
    "    return((1/N)*np.dot(M,x))\n",
    "\n",
    "def FFT(x):\n",
    "    x=np.asarray(x)\n",
    "    N=x.shape[0]\n",
    "    if N==1:\n",
    "        return x\n",
    "    else:\n",
    "        x_even=FFT(x[::2])\n",
    "        x_odd=FFT(x[1::2])\n",
    "        factor = np.exp(-2j * np.pi * np.arange(N) / N)\n",
    "        return np.concatenate([x_even + factor[:N / 2] * x_odd,\n",
    "                               x_even + factor[N / 2:] * x_odd])\n",
    "    \n",
    "def iFFTs(x):\n",
    "    x=np.asarray(x)\n",
    "    N=x.shape[0]\n",
    "    if N==1:\n",
    "        return x\n",
    "    else:\n",
    "        x_even=iFFTs(x[::2])\n",
    "        x_odd=iFFTs(x[1::2])\n",
    "        factor = np.exp(2j * np.pi * np.arange(N) / N)\n",
    "        \n",
    "        return np.concatenate([x_even + factor[:N / 2] * x_odd,\n",
    "                                x_even + factor[N / 2:] * x_odd])\n",
    "def iFFT(x):\n",
    "    x=np.asarray(x)\n",
    "    N=x.shape[0]\n",
    "    result=iFFTs(x)\n",
    "    return result/N"
   ]
  },
  {
   "cell_type": "code",
   "execution_count": 192,
   "metadata": {},
   "outputs": [],
   "source": [
    "\n",
    "#x=np.random.random(1024)\n",
    "#%timeit DFT(x)\n",
    "#%timeit FFT(x)\n",
    "#%timeit np.fft.fft(x)\n"
   ]
  },
  {
   "cell_type": "code",
   "execution_count": 193,
   "metadata": {},
   "outputs": [
    {
     "name": "stderr",
     "output_type": "stream",
     "text": [
      "/home/mats/anaconda3/lib/python3.6/site-packages/ipykernel_launcher.py:27: VisibleDeprecationWarning: using a non-integer number instead of an integer will result in an error in the future\n",
      "/home/mats/anaconda3/lib/python3.6/site-packages/ipykernel_launcher.py:28: VisibleDeprecationWarning: using a non-integer number instead of an integer will result in an error in the future\n",
      "/home/mats/anaconda3/lib/python3.6/site-packages/ipykernel_launcher.py:40: VisibleDeprecationWarning: using a non-integer number instead of an integer will result in an error in the future\n",
      "/home/mats/anaconda3/lib/python3.6/site-packages/ipykernel_launcher.py:41: VisibleDeprecationWarning: using a non-integer number instead of an integer will result in an error in the future\n"
     ]
    },
    {
     "data": {
      "text/plain": [
       "array([ 1. -8.05762061e-16j,  2. -6.93039022e-16j,  3. -5.83717456e-16j,\n",
       "        4. +1.72254642e-16j,  5. -6.06602211e-16j,  6. +3.06161700e-16j,\n",
       "        7. +3.66468490e-17j,  8. +5.05321550e-16j])"
      ]
     },
     "execution_count": 193,
     "metadata": {},
     "output_type": "execute_result"
    }
   ],
   "source": [
    "iFFT(FFT([1,2,3,4,5,6,7,8]))"
   ]
  },
  {
   "cell_type": "code",
   "execution_count": 194,
   "metadata": {},
   "outputs": [
    {
     "name": "stderr",
     "output_type": "stream",
     "text": [
      "/home/mats/anaconda3/lib/python3.6/site-packages/ipykernel_launcher.py:27: VisibleDeprecationWarning: using a non-integer number instead of an integer will result in an error in the future\n",
      "/home/mats/anaconda3/lib/python3.6/site-packages/ipykernel_launcher.py:28: VisibleDeprecationWarning: using a non-integer number instead of an integer will result in an error in the future\n",
      "/home/mats/anaconda3/lib/python3.6/site-packages/ipykernel_launcher.py:40: VisibleDeprecationWarning: using a non-integer number instead of an integer will result in an error in the future\n",
      "/home/mats/anaconda3/lib/python3.6/site-packages/ipykernel_launcher.py:41: VisibleDeprecationWarning: using a non-integer number instead of an integer will result in an error in the future\n"
     ]
    },
    {
     "data": {
      "text/plain": [
       "array([ 1. -4.05741625e-16j,  2. -9.38587363e-17j,  3. -8.41170949e-17j,\n",
       "        4. +2.16323416e-16j])"
      ]
     },
     "execution_count": 194,
     "metadata": {},
     "output_type": "execute_result"
    }
   ],
   "source": [
    "iFFT(FFT([1,2,3,4]))"
   ]
  },
  {
   "cell_type": "code",
   "execution_count": null,
   "metadata": {
    "collapsed": true
   },
   "outputs": [],
   "source": []
  },
  {
   "cell_type": "code",
   "execution_count": null,
   "metadata": {
    "collapsed": true
   },
   "outputs": [],
   "source": []
  }
 ],
 "metadata": {
  "kernelspec": {
   "display_name": "Python 3",
   "language": "python",
   "name": "python3"
  },
  "language_info": {
   "codemirror_mode": {
    "name": "ipython",
    "version": 3
   },
   "file_extension": ".py",
   "mimetype": "text/x-python",
   "name": "python",
   "nbconvert_exporter": "python",
   "pygments_lexer": "ipython3",
   "version": "3.6.1"
  }
 },
 "nbformat": 4,
 "nbformat_minor": 2
}
