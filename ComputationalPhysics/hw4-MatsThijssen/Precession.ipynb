{
 "cells": [
  {
   "cell_type": "code",
   "execution_count": 1,
   "metadata": {},
   "outputs": [
    {
     "name": "stdout",
     "output_type": "stream",
     "text": [
      "-496159.0109085865\n"
     ]
    }
   ],
   "source": [
    "#For S2\n",
    "a=(1.425e+14) #Semi-major axis\n",
    "e=0.8760 #1233 #Eccentricity, by Wiki\n",
    "b=a*(1-e**2)**(1/2) #Semi-minor axis\n",
    "\n",
    "\n",
    "R=(1+e)*a #distance, in m/aphelion\n",
    "T=4.907e+8 #Time, second/sidereal yr\n",
    "G=(6.67408*10**(-11)) #Grav constant\n",
    "c=(3.0e+8)\n",
    "MSun=(1.988e+30) #Sun mass, in kg\n",
    "MBH=(4e+6)*MSun #BH mass, in kg\n",
    "\n",
    "\n",
    "\n",
    "x0=-R\n",
    "y0=0\n",
    "v0x=0\n",
    "v0y=-((G*MBH/a)*(1-e)/(1+e))**(1/2)\n",
    "print(v0y)"
   ]
  },
  {
   "cell_type": "code",
   "execution_count": 2,
   "metadata": {
    "collapsed": true
   },
   "outputs": [],
   "source": [
    "def S2Verlet(Tf,N):\n",
    "    t=0\n",
    "    x=x0\n",
    "    y=y0\n",
    "    \n",
    "    \n",
    "    h=Tf/N\n",
    "    r=(x**2+y**2)**(1/2)\n",
    "    #Get v at t+h/2\n",
    "    vx=v0x-(h/2)*(G*MSunp*x)/((r**3)-2*G*M*r/c**2)\n",
    "    vy=v0y-(h/2)*(G*MSunp*y)/((r**3)-2*G*M*r/c**2)\n",
    "    xpos=[]\n",
    "    ypos=[]\n",
    "    \n",
    "    time=np.arange(0,Tf+h,h)\n",
    "    while t<=Tf:\n",
    "        \n",
    "        xpos.append(x)\n",
    "        ypos.append(y)\n",
    "\n",
    "        xn=x+h*vx #Evolve x and y\n",
    "        yn=y+h*vy\n",
    "        r=(xn**2+yn**2)**(1/2)\n",
    "        kx=-h*(G*MBH*xn)/((r**3)-2*G*M*r/c**2)\n",
    "        ky=-h*(G*MBH*yn)/((r**3)-2*G*M*r/c**2)\n",
    "       \n",
    "        \n",
    "        vxn=vx+kx \n",
    "        vyn=vy+ky\n",
    "        \n",
    "        x=xn\n",
    "        y=yn\n",
    "        vx=vxn\n",
    "        vy=vyn\n",
    "        t+=h\n",
    "        \n",
    "    return xpos,ypos,time"
   ]
  },
  {
   "cell_type": "code",
   "execution_count": null,
   "metadata": {
    "collapsed": true
   },
   "outputs": [],
   "source": [
    "x,y,t=S2Verlet(50*T,100000)\n",
    "plt.plot(x,y,'r-')\n",
    "plt.plot(x[-1],y[-1],'bo')\n",
    "plt.plot(0,0,'ko',markersize='10')\n",
    "plt.show()"
   ]
  }
 ],
 "metadata": {
  "kernelspec": {
   "display_name": "Python 3",
   "language": "python",
   "name": "python3"
  },
  "language_info": {
   "codemirror_mode": {
    "name": "ipython",
    "version": 3
   },
   "file_extension": ".py",
   "mimetype": "text/x-python",
   "name": "python",
   "nbconvert_exporter": "python",
   "pygments_lexer": "ipython3",
   "version": "3.6.1"
  }
 },
 "nbformat": 4,
 "nbformat_minor": 2
}
