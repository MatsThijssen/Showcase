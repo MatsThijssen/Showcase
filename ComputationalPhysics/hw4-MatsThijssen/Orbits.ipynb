{
 "cells": [
  {
   "cell_type": "code",
   "execution_count": 17,
   "metadata": {
    "collapsed": true
   },
   "outputs": [],
   "source": [
    "import numpy as np\n",
    "from matplotlib import pyplot as plt\n",
    "from matplotlib import animation\n",
    "import math as math"
   ]
  },
  {
   "cell_type": "code",
   "execution_count": 18,
   "metadata": {},
   "outputs": [
    {
     "name": "stdout",
     "output_type": "stream",
     "text": [
      "8.539794916714262\n"
     ]
    }
   ],
   "source": [
    "#For Mars only\n",
    "R=249.23*10**9 #distance, in m/semimajor axis\n",
    "T=31558118.4 #Time, second/sidereal yr\n",
    "G=6.67408*10**(-11) #Grav constant\n",
    "#Set G'=1 to get:\n",
    "M=(R**3)/(G*(T**2))\n",
    "MSun=1.989*10**30\n",
    "MSunp=MSun/M\n",
    "print(MSunp)\n",
    "\n",
    "a=(227.98*10**9)/R #Semi-major axis\n",
    "e=0.0934 #1233 #Eccentricity, by NASA\n",
    "b=a*(1-e**2)**(1/2) #Semi-minor axis\n",
    "\n",
    "x0=-1\n",
    "y0=0\n",
    "v0x=0\n",
    "v0y=-21.97*((10**3)/R)*T #Min orbital vel x 1/R (in km) x T"
   ]
  },
  {
   "cell_type": "code",
   "execution_count": 62,
   "metadata": {},
   "outputs": [
    {
     "data": {
      "text/plain": [
       "1.4526660084509036e+37"
      ]
     },
     "execution_count": 62,
     "metadata": {},
     "output_type": "execute_result"
    }
   ],
   "source": [
    "M*R*R/(T*T)"
   ]
  },
  {
   "cell_type": "code",
   "execution_count": 19,
   "metadata": {
    "collapsed": true
   },
   "outputs": [],
   "source": [
    "\n",
    "def Euler(Tf,N):\n",
    "    t=0\n",
    "    x=x0\n",
    "    y=y0\n",
    "    vx=v0x\n",
    "    vy=v0y\n",
    "    h=Tf/N\n",
    "    xpos=[]\n",
    "    ypos=[]\n",
    "    Energy=[]\n",
    "    time=np.arange(0,Tf+h,h)\n",
    "    while t<=Tf:\n",
    "        #if t+h>T:\n",
    "        #    t=T-h\n",
    "        xpos.append(x)\n",
    "        ypos.append(y)\n",
    "        \n",
    "        r=(x**2+y**2)**(1/2) \n",
    "        v=(vx**2+vy**2)**(1/2) \n",
    "        Energy.append((-MSunp/(r))+0.5*(v)**2)\n",
    "        xn = x+vx*h #Evolve x and y\n",
    "        yn = y+vy*h\n",
    "        vxn=vx-h*MSunp*x/(r**3) #Evolve vx and vy\n",
    "        vyn=vy-h*MSunp*y/(r**3)\n",
    "        x=xn\n",
    "        y=yn\n",
    "        vx=vxn\n",
    "        vy=vyn\n",
    "        t+=h\n",
    "        \n",
    "    return xpos,ypos,time, Energy"
   ]
  },
  {
   "cell_type": "code",
   "execution_count": 20,
   "metadata": {
    "collapsed": true
   },
   "outputs": [],
   "source": [
    "x,y,t,EulerE=Euler(5,100000) #Sidereal Orbit for Mars is 1.881 times earth"
   ]
  },
  {
   "cell_type": "code",
   "execution_count": 21,
   "metadata": {},
   "outputs": [
    {
     "ename": "NameError",
     "evalue": "name 'x_exact' is not defined",
     "output_type": "error",
     "traceback": [
      "\u001b[0;31m---------------------------------------------------------------------------\u001b[0m",
      "\u001b[0;31mNameError\u001b[0m                                 Traceback (most recent call last)",
      "\u001b[0;32m<ipython-input-21-e9700d4977d7>\u001b[0m in \u001b[0;36m<module>\u001b[0;34m()\u001b[0m\n\u001b[1;32m      1\u001b[0m \u001b[0mplt\u001b[0m\u001b[0;34m.\u001b[0m\u001b[0mplot\u001b[0m\u001b[0;34m(\u001b[0m\u001b[0mx\u001b[0m\u001b[0;34m,\u001b[0m\u001b[0my\u001b[0m\u001b[0;34m,\u001b[0m\u001b[0;34m'k-'\u001b[0m\u001b[0;34m)\u001b[0m\u001b[0;34m\u001b[0m\u001b[0m\n\u001b[1;32m      2\u001b[0m \u001b[0mplt\u001b[0m\u001b[0;34m.\u001b[0m\u001b[0mplot\u001b[0m\u001b[0;34m(\u001b[0m\u001b[0mx\u001b[0m\u001b[0;34m[\u001b[0m\u001b[0;34m-\u001b[0m\u001b[0;36m1\u001b[0m\u001b[0;34m]\u001b[0m\u001b[0;34m,\u001b[0m\u001b[0my\u001b[0m\u001b[0;34m[\u001b[0m\u001b[0;34m-\u001b[0m\u001b[0;36m1\u001b[0m\u001b[0;34m]\u001b[0m\u001b[0;34m,\u001b[0m\u001b[0;34m'bo'\u001b[0m\u001b[0;34m)\u001b[0m\u001b[0;34m\u001b[0m\u001b[0m\n\u001b[0;32m----> 3\u001b[0;31m \u001b[0mplt\u001b[0m\u001b[0;34m.\u001b[0m\u001b[0mplot\u001b[0m\u001b[0;34m(\u001b[0m\u001b[0mx_exact\u001b[0m\u001b[0;34m,\u001b[0m\u001b[0my_exact\u001b[0m\u001b[0;34m,\u001b[0m \u001b[0;34m'r*'\u001b[0m\u001b[0;34m)\u001b[0m\u001b[0;34m\u001b[0m\u001b[0m\n\u001b[0m\u001b[1;32m      4\u001b[0m \u001b[0mplt\u001b[0m\u001b[0;34m.\u001b[0m\u001b[0mshow\u001b[0m\u001b[0;34m(\u001b[0m\u001b[0;34m)\u001b[0m\u001b[0;34m\u001b[0m\u001b[0m\n",
      "\u001b[0;31mNameError\u001b[0m: name 'x_exact' is not defined"
     ]
    }
   ],
   "source": [
    "plt.plot(x,y,'k-')\n",
    "plt.plot(x[-1],y[-1],'bo')\n",
    "plt.plot(x_exact,y_exact, 'r*')\n",
    "plt.show()"
   ]
  },
  {
   "cell_type": "code",
   "execution_count": 22,
   "metadata": {
    "collapsed": true
   },
   "outputs": [],
   "source": [
    "#Newton-Rapheson\n",
    "\n",
    "def MM(tt):\n",
    "    while tt>1.881:\n",
    "        tt-=1.881\n",
    "    return (2.0*math.pi/1.881)*tt-math.pi\n",
    "    \n",
    "\n",
    "def f(tt,EE):\n",
    "    return EE-e*math.sin(EE)-MM(tt)\n",
    "def fprime(EE):\n",
    "    return 1.0-e*math.cos(EE)\n",
    "def NR(time):\n",
    "    EE=MM(time)\n",
    "    for i in range(100000):\n",
    "        Ep=EE-(f(time,EE)/fprime(EE))\n",
    "        EE=Ep\n",
    "        if abs(f(time,EE))<1e-10:\n",
    "            #print(i)\n",
    "            #print(E)\n",
    "            break\n",
    "    return a*(np.cos(EE)-e), b*np.sin(EE)"
   ]
  },
  {
   "cell_type": "code",
   "execution_count": 23,
   "metadata": {},
   "outputs": [
    {
     "name": "stdout",
     "output_type": "stream",
     "text": [
      "0.348970759288 0.801487168329\n"
     ]
    }
   ],
   "source": [
    "x_exact,y_exact=NR(5)\n",
    "print(x_exact, y_exact)"
   ]
  },
  {
   "cell_type": "code",
   "execution_count": 46,
   "metadata": {
    "scrolled": true
   },
   "outputs": [
    {
     "data": {
      "image/png": "[encoded data removed]",
      "text/plain": [
       "<matplotlib.figure.Figure at 0x7f77768f50b8>"
      ]
     },
     "metadata": {},
     "output_type": "display_data"
    },
    {
     "name": "stdout",
     "output_type": "stream",
     "text": [
      "-0.90878951229\n"
     ]
    }
   ],
   "source": [
    "#Error for Euler\n",
    "r_exact=(x_exact**2+y_exact**2)**(1/2)\n",
    "EulerError=np.empty([8])\n",
    "pts=np.empty([8])\n",
    "for i in range(11,19):\n",
    "    n=2**(i)\n",
    "    x,y,t,Energy=Euler(5,n)\n",
    "    r=(x[-1]**2+y[-1]**2)**(1/2)\n",
    "    L1=(((x_exact-x[-1])**2+(y_exact-y[-1])**2)**(1/2))/r_exact\n",
    "    EulerError[i-11]=np.log(L1)\n",
    "    pts[i-11]=np.log(n)\n",
    "    plt.plot(np.log(n),np.log(L1),'ro')\n",
    "plt.title(\"Euler Error\")\n",
    "plt.xlabel(\"ln(n)\")\n",
    "plt.ylabel(\"ln(Error)\")    \n",
    "plt.show()\n",
    "slope,intercept = np.polyfit(pts[:-2],EulerError[:-2], 1)\n",
    "print(slope)"
   ]
  },
  {
   "cell_type": "code",
   "execution_count": 25,
   "metadata": {
    "collapsed": true
   },
   "outputs": [],
   "source": [
    "\n",
    "def Rk2(Tf,N):\n",
    "    t=0\n",
    "    x=x0\n",
    "    y=y0\n",
    "    vx=v0x\n",
    "    vy=v0y\n",
    "    h=Tf/N\n",
    "    xpos=[]\n",
    "    ypos=[]\n",
    "    Energy=[]\n",
    "    time=np.arange(0,Tf+h,h)\n",
    "    while t<=Tf:\n",
    "        \n",
    "        xpos.append(x)\n",
    "        ypos.append(y)\n",
    "        r=(x**2+y**2)**(1/2) \n",
    "        v=(vx**2+vy**2)**(1/2) \n",
    "        Energy.append((-MSunp/(r))+0.5*(v)**2)\n",
    "        \n",
    "        x_half=x+(h/2)*vx\n",
    "        y_half=y+(h/2)*vy\n",
    "        r_half=(x_half**2+y_half**2)**(1/2) \n",
    "        \n",
    "        k2x=h*(vx-(h/2)*(MSunp*x_half)/(r_half**3))\n",
    "        k2y=h*(vy-(h/2)*(MSunp*y_half)/(r_half**3))\n",
    "        \n",
    "        xn = x+k2x #Evolve x and y\n",
    "        yn = y+k2y\n",
    "        \n",
    "        k2x=h*MSunp*x_half/(r_half**3)\n",
    "        k2y=h*MSunp*y_half/(r_half**3)\n",
    "        \n",
    "        vxn=vx-k2x #Evolve vx and vy\n",
    "        vyn=vy-k2y\n",
    "        \n",
    "        x=xn\n",
    "        y=yn\n",
    "        vx=vxn\n",
    "        vy=vyn\n",
    "        t+=h\n",
    "        \n",
    "    return xpos,ypos,time, Energy"
   ]
  },
  {
   "cell_type": "code",
   "execution_count": 28,
   "metadata": {
    "collapsed": true
   },
   "outputs": [],
   "source": [
    "x,y,t,Rk2E=Rk2(5,1000)"
   ]
  },
  {
   "cell_type": "code",
   "execution_count": 29,
   "metadata": {},
   "outputs": [
    {
     "data": {
      "image/png": "[encoded data removed]",
      "text/plain": [
       "<matplotlib.figure.Figure at 0x7f3a21490f60>"
      ]
     },
     "metadata": {},
     "output_type": "display_data"
    }
   ],
   "source": [
    "plt.plot(x,y,'k-')\n",
    "plt.plot(x[-1],y[-1],'bo')\n",
    "plt.plot(x_exact,y_exact, 'r*')\n",
    "plt.show()"
   ]
  },
  {
   "cell_type": "code",
   "execution_count": 49,
   "metadata": {},
   "outputs": [
    {
     "data": {
      "image/png": "[encoded data removed]",
      "text/plain": [
       "<matplotlib.figure.Figure at 0x7f77758863c8>"
      ]
     },
     "metadata": {},
     "output_type": "display_data"
    },
    {
     "name": "stdout",
     "output_type": "stream",
     "text": [
      "-1.93647589601\n"
     ]
    }
   ],
   "source": [
    "#Error for Rk2\n",
    "r_exact=(x_exact**2+y_exact**2)**(1/2)\n",
    "Rk2Error=np.empty([9])\n",
    "pts=np.empty([9])\n",
    "for i in range(8,17):\n",
    "    n=2**(i/2)\n",
    "    x,y,t,En=Rk2(5,n)\n",
    "    r=(x[-1]**2+y[-1]**2)**(1/2)\n",
    "    L1=(((x_exact-x[-1])**2 + (y_exact-y[-1])**2)**(1/2))/r_exact\n",
    "    Rk2Error[i-9]=np.log(L1)\n",
    "    pts[i-9]=np.log(n)\n",
    "    plt.plot(np.log(n),np.log(L1),'ro')\n",
    "plt.title(\"Rk2 Error\")\n",
    "plt.xlabel(\"ln(n)\")\n",
    "plt.ylabel(\"ln(Error)\")    \n",
    "plt.show()\n",
    "slope,intercept = np.polyfit(pts,Rk2Error, 1)\n",
    "print(slope)"
   ]
  },
  {
   "cell_type": "code",
   "execution_count": 26,
   "metadata": {
    "collapsed": true
   },
   "outputs": [],
   "source": [
    "def Rk4(Tf,N):\n",
    "    t=0\n",
    "    x=x0\n",
    "    y=y0\n",
    "    vx=v0x\n",
    "    vy=v0y\n",
    "    h=Tf/N\n",
    "    xpos=[]\n",
    "    ypos=[]\n",
    "    Energy=[]\n",
    "    time=np.arange(0,Tf+h,h)\n",
    "    while t<=Tf:\n",
    "        \n",
    "        xpos.append(x)\n",
    "        ypos.append(y)\n",
    "        r=(x**2+y**2)**(1/2) \n",
    "        v=(vx**2+vy**2)**(1/2) \n",
    "        Energy.append((-MSunp/(r))+0.5*(v)**2)\n",
    "        \n",
    "        k1x=h*vx\n",
    "        k1y=h*vy\n",
    "        ###\n",
    "        k1vx=-h*MSunp*x/((x**2+y**2)**(3/2)) \n",
    "        k1vy=-h*MSunp*y/((x**2+y**2)**(3/2)) \n",
    "        \n",
    "        k2vx=-h*(MSunp*(x+k1x/2))/(((x+k1x/2)**2+(y+k1y/2)**2)**(3/2))\n",
    "        k2vy=-h*(MSunp*(y+k1y/2))/(((x+k1x/2)**2+(y+k1y/2)**2)**(3/2))\n",
    "        ###\n",
    "        k2x=h*(vx-(h/2)*(MSunp*(x+k1x/2))/(((x+k1x/2)**2+(y+k1y/2)**2)**(3/2)))\n",
    "        k2y=h*(vy-(h/2)*(MSunp*(y+k1y/2))/(((x+k1x/2)**2+(y+k1y/2)**2)**(3/2)))\n",
    "        ###\n",
    "        k3vx=-h*(MSunp*(x+k2x/2))/(((x+k2x/2)**2+(y+k2y/2)**2)**(3/2))\n",
    "        k3vy=-h*(MSunp*(y+k2y/2))/(((x+k2x/2)**2+(y+k2y/2)**2)**(3/2))\n",
    "        ###\n",
    "        k3x=h*(vx-(h/2)*(MSunp*(x+k2x/2))/(((x+k2x/2)**2+(y+k2y/2)**2)**(3/2)))\n",
    "        k3y=h*(vy-(h/2)*(MSunp*(y+k2y/2))/(((x+k2x/2)**2+(y+k2y/2)**2)**(3/2)))\n",
    "        ###\n",
    "        k4vx=-h*(MSunp*(x+k3x))/(((x+k3x)**2+(y+k3y)**2)**(3/2))\n",
    "        k4vy=-h*(MSunp*(y+k3y))/(((x+k3x)**2+(y+k3y)**2)**(3/2))\n",
    "        ###\n",
    "        k4x=h*(vx-h*(MSunp*(x+k3x))/(((x+k3x)**2+(y+k3y)**2)**(3/2)))\n",
    "        k4y=h*(vy-h*(MSunp*(y+k3y))/(((x+k3x)**2+(y+k3y)**2)**(3/2)))\n",
    "        \n",
    "       \n",
    "        \n",
    "        xn = x+(1/6)*(k1x+2*k2x+2*k3x+k4x) #Evolve x and y\n",
    "        yn = y+(1/6)*(k2y+2*k2y+2*k3y+k4y)\n",
    "        \n",
    "       \n",
    "        \n",
    "        vxn=vx+(1/6)*(k1vx+2*k2vx+2*k3vx+k4vx) #Evolve vx and vy\n",
    "        vyn=vy+(1/6)*(k2vy+2*k2vy+2*k3vy+k4vy)\n",
    "        \n",
    "        x=xn\n",
    "        y=yn\n",
    "        vx=vxn\n",
    "        vy=vyn\n",
    "        t+=h\n",
    "        \n",
    "    return xpos,ypos,time,Energy"
   ]
  },
  {
   "cell_type": "code",
   "execution_count": 33,
   "metadata": {
    "collapsed": true
   },
   "outputs": [],
   "source": [
    "x,y,t,Rk4E=Rk4(5,100000)"
   ]
  },
  {
   "cell_type": "code",
   "execution_count": 34,
   "metadata": {},
   "outputs": [
    {
     "data": {
      "image/png": "[encoded data removed]",
      "text/plain": [
       "<matplotlib.figure.Figure at 0x7f3a216e4a58>"
      ]
     },
     "metadata": {},
     "output_type": "display_data"
    }
   ],
   "source": [
    "\n",
    "plt.plot(x,y,'k-')\n",
    "plt.plot(x[-1],y[-1],'bo')\n",
    "plt.plot(x_exact,y_exact, 'r*')\n",
    "plt.show()"
   ]
  },
  {
   "cell_type": "code",
   "execution_count": 59,
   "metadata": {},
   "outputs": [
    {
     "data": {
      "image/png": "[encoded data removed]",
      "text/plain": [
       "<matplotlib.figure.Figure at 0x7f7777e2c080>"
      ]
     },
     "metadata": {},
     "output_type": "display_data"
    },
    {
     "name": "stdout",
     "output_type": "stream",
     "text": [
      "-0.825216731769\n"
     ]
    }
   ],
   "source": [
    "#Error for Rk4\n",
    "r_exact=(x_exact**2+y_exact**2)**(1/2)\n",
    "Rk4Error=np.empty([9])\n",
    "pts=np.empty([9])\n",
    "for i in range(8,17):\n",
    "    n=2**i\n",
    "    x,y,t,E=Rk4(5,n)\n",
    "    r=(x[-1]**2+y[-1]**2)**(1/2)\n",
    "    L1=(((x_exact-x[-2])**2 + (y_exact-y[-2])**2)**(1/2))\n",
    "    Rk4Error[i-8]=np.log(L1)\n",
    "    pts[i-8]=np.log(n)\n",
    "    plt.plot(np.log(n),np.log(L1),'ro')\n",
    "plt.title(\"Rk4 Error\")\n",
    "plt.xlabel(\"ln(n)\")\n",
    "plt.ylabel(\"ln(Error)\")\n",
    "plt.show()\n",
    "slope,intercept = np.polyfit(pts,Rk4Error, 1)\n",
    "print(slope)"
   ]
  },
  {
   "cell_type": "code",
   "execution_count": 27,
   "metadata": {
    "collapsed": true
   },
   "outputs": [],
   "source": [
    "def Verlet(Tf,N):\n",
    "    t=0\n",
    "    x=x0\n",
    "    y=y0\n",
    "    \n",
    "    \n",
    "    h=Tf/N\n",
    "    r=(x**2+y**2)**(1/2)\n",
    "    #Get v at t+h/2\n",
    "    vx_at_x=v0x\n",
    "    vy_at_y=v0y\n",
    "    vx=v0x-(h/2)*(MSunp*x)/(r**3)\n",
    "    vy=v0y-(h/2)*(MSunp*y)/(r**3)\n",
    "    xpos=[]\n",
    "    ypos=[]\n",
    "    Energy=[]\n",
    "    Pot=[]\n",
    "    KE=[]\n",
    "    \n",
    "    time=np.arange(0,Tf+h,h)\n",
    "    while t<=Tf:\n",
    "        \n",
    "        xpos.append(x)\n",
    "        ypos.append(y)\n",
    "        \n",
    "       \n",
    "        r=(x**2+y**2)**(1/2)\n",
    "        v=(vx_at_x**2+vy_at_y**2)**(1/2) \n",
    "        Energy.append((-MSunp/(r))+0.5*(v)**2)\n",
    "        Pot.append((-MSunp/(r)))\n",
    "        KE.append(0.5*(v**2))\n",
    "        xn=x+h*vx #Evolve x and y\n",
    "        yn=y+h*vy\n",
    "        \n",
    "        kx=-h*(MSunp*xn)/((xn**2+yn**2)**(3/2)) \n",
    "        ky=-h*(MSunp*yn)/((xn**2+yn**2)**(3/2)) \n",
    "        vx_at_x=vx+kx/2 #These are useful for energy calc\n",
    "        vy_at_y=vy+ky/2\n",
    "        \n",
    "        vxn=vx+kx \n",
    "        vyn=vy+ky\n",
    "        \n",
    "        x=xn\n",
    "        y=yn\n",
    "        vx=vxn\n",
    "        vy=vyn\n",
    "        t+=h\n",
    "        \n",
    "    return xpos,ypos,time,Energy"
   ]
  },
  {
   "cell_type": "code",
   "execution_count": 62,
   "metadata": {},
   "outputs": [
    {
     "name": "stdout",
     "output_type": "stream",
     "text": [
      "1265\n"
     ]
    }
   ],
   "source": [
    "for n in range(1,10000):\n",
    "    x,y,t,VerletE=Verlet(5,n)\n",
    "    if (((x_exact-x[-1])**2 + (y_exact-y[-1])**2)**(1/2))<0.001:\n",
    "        print(n)\n",
    "        break"
   ]
  },
  {
   "cell_type": "code",
   "execution_count": 66,
   "metadata": {},
   "outputs": [
    {
     "data": {
      "image/png": "[encoded data removed]",
      "text/plain": [
       "<matplotlib.figure.Figure at 0x7f7777d96198>"
      ]
     },
     "metadata": {},
     "output_type": "display_data"
    }
   ],
   "source": [
    "x,y,t,VerletE=Verlet(1,100000)\n",
    "x,y,t,EulerE=Euler(1,100000)\n",
    "x,y,t,Rk2E=Rk2(1,100000)\n",
    "x,y,t,Rk4E=Rk4(1,100000)\n",
    "#for i in range(len(t)):\n",
    "#    t[i]=t[i]*T\n",
    "plt.plot(t,VerletE,'b-',t,Rk2E,'k-',t,Rk4E,'g-',t,EulerE,'r-')\n",
    "plt.title(\"Energy vs. time\")\n",
    "plt.ylabel(\"Energy/mass\")\n",
    "plt.xlabel(\"Time\")\n",
    "plt.legend([\"Verlet\",\"Rk2\",\"Rk4\",\"Euler\"])\n",
    "plt.show()"
   ]
  },
  {
   "cell_type": "code",
   "execution_count": 35,
   "metadata": {},
   "outputs": [
    {
     "data": {
      "image/png": "[encoded data removed]",
      "text/plain": [
       "<matplotlib.figure.Figure at 0x7f7777d7b240>"
      ]
     },
     "metadata": {},
     "output_type": "display_data"
    }
   ],
   "source": [
    "fig,axes=plt.subplots(2,2)\n",
    "x,y,t,EulerE=Euler(5,100000)\n",
    "axes[0,0].plot(x,y,'k-',x[-1],y[-1],'bo',x_exact,y_exact, 'r*',0,0,'yo')\n",
    "x,y,t,Rk2E=Rk2(5,100000)\n",
    "axes[0,1].plot(x,y,'k-',x[-1],y[-1],'bo',x_exact,y_exact, 'r*',0,0,'yo')\n",
    "x,y,t,Rk4E=Rk4(5,100000)\n",
    "axes[1,0].plot(x,y,'k-',x[-1],y[-1],'bo',x_exact,y_exact, 'r*',0,0,'yo')\n",
    "x,y,t,VerletE=Verlet(5,100000)\n",
    "axes[1,1].plot(x,y,'k-',x[-1],y[-1],'bo',x_exact,y_exact, 'r*',0,0,'yo')\n",
    "plt.show()"
   ]
  },
  {
   "cell_type": "code",
   "execution_count": 64,
   "metadata": {},
   "outputs": [
    {
     "data": {
      "image/png": "[encoded data removed]",
      "text/plain": [
       "<matplotlib.figure.Figure at 0x7f3a215156a0>"
      ]
     },
     "metadata": {},
     "output_type": "display_data"
    }
   ],
   "source": [
    "x,y,t,E=Verlet(5,12650)\n",
    "plt.plot(x,y,'k-')\n",
    "plt.plot(x[-1],y[-1],'bo')\n",
    "plt.plot(x_exact,y_exact, 'r*')\n",
    "plt.show()"
   ]
  },
  {
   "cell_type": "code",
   "execution_count": 57,
   "metadata": {},
   "outputs": [
    {
     "data": {
      "image/png": "[encoded data removed]",
      "text/plain": [
       "<matplotlib.figure.Figure at 0x7f77762802b0>"
      ]
     },
     "metadata": {},
     "output_type": "display_data"
    },
    {
     "name": "stdout",
     "output_type": "stream",
     "text": [
      "-1.78405408028\n"
     ]
    }
   ],
   "source": [
    "#Error for Verlet\n",
    "r_exact=(x_exact**2+y_exact**2)**(1/2)\n",
    "VerletError=np.empty([16])\n",
    "pts=np.empty([16])\n",
    "for i in range(1,17):\n",
    "    n=2**i\n",
    "    x,y,t,En=Verlet(5,n)\n",
    "    r=(x[-1]**2+y[-1]**2)**(1/2)\n",
    "    L1=(((x_exact-x[-1])**2 + (y_exact-y[-1])**2)**(1/2))/r_exact\n",
    "    VerletError[i-1]=np.log(L1)\n",
    "    pts[i-1]=np.log(n)\n",
    "    plt.plot(np.log(n),np.log(L1),'ro')\n",
    "plt.title(\"Verlet Error\")\n",
    "plt.xlabel(\"ln(n)\")\n",
    "plt.ylabel(\"ln(Error)\")    \n",
    "plt.show()\n",
    "slope,intercept = np.polyfit(pts[:8],VerletError[:8], 1)\n",
    "print(slope)"
   ]
  },
  {
   "cell_type": "code",
   "execution_count": 84,
   "metadata": {},
   "outputs": [
    {
     "name": "stdout",
     "output_type": "stream",
     "text": [
      "5.188650867830126\n",
      "-0.45290434852864675\n"
     ]
    }
   ],
   "source": [
    "#Halley\n",
    "R=5.24789*10**12 #distance, in m/aphelion\n",
    "T=2376792201.6 #Time, second/sidereal yr (for Halley)\n",
    "G=6.67408*10**(-11) #Grav constant\n",
    "#Set G'=1 to get:\n",
    "M=(R**3)/(G*(T**2))\n",
    "MSun=1.989*10**30\n",
    "MSunp=MSun/M\n",
    "print(MSunp)\n",
    "\n",
    "a=(2.66733*10**12)/R #Semi-major axis\n",
    "e=0.967 #Eccentricity, by NASA\n",
    "b=a*(1-e**2)**(1/2) #Semi-minor axis\n",
    "\n",
    "x0=-1\n",
    "y0=0\n",
    "v0x=0\n",
    "v0y=-1*((10**3)/R)*T\n",
    "print(v0y)"
   ]
  },
  {
   "cell_type": "code",
   "execution_count": 85,
   "metadata": {
    "collapsed": true
   },
   "outputs": [],
   "source": [
    "def Rk4_ASS(Tf,sigma): #sigma is target accuracy/unit time\n",
    "    t=0\n",
    "    x=x0\n",
    "    y=y0\n",
    "    vx=v0x\n",
    "    vy=v0y\n",
    "    #h=Tf/N\n",
    "    xpos=[]\n",
    "    ypos=[]\n",
    "    h=0.0001 #Initial step size, very small\n",
    "    #time=np.arange(0,Tf,h)\n",
    "    \n",
    "    while t<=Tf:\n",
    "        \n",
    "        xpos.append(x)\n",
    "        ypos.append(y)\n",
    "        \n",
    "        \n",
    "        while True:\n",
    "            x_store=x\n",
    "            y_store=y\n",
    "            vx_store=vx\n",
    "            vy_store=vy\n",
    "            for i in range(2): #Run twice, with step size h\n",
    "                k1x=h*vx\n",
    "                k1y=h*vy\n",
    "                ###\n",
    "                k1vx=-h*MSunp*x/((x**2+y**2)**(3/2)) \n",
    "                k1vy=-h*MSunp*y/((x**2+y**2)**(3/2)) \n",
    "\n",
    "                k2vx=-h*(MSunp*(x+k1x/2))/(((x+k1x/2)**2+(y+k1y/2)**2)**(3/2))\n",
    "                k2vy=-h*(MSunp*(y+k1y/2))/(((x+k1x/2)**2+(y+k1y/2)**2)**(3/2))\n",
    "                ###\n",
    "                k2x=h*(vx-(h/2)*(MSunp*(x+k1x/2))/(((x+k1x/2)**2+(y+k1y/2)**2)**(3/2)))\n",
    "                k2y=h*(vy-(h/2)*(MSunp*(y+k1y/2))/(((x+k1x/2)**2+(y+k1y/2)**2)**(3/2)))\n",
    "                ###\n",
    "                k3vx=-h*(MSunp*(x+k2x/2))/(((x+k2x/2)**2+(y+k2y/2)**2)**(3/2))\n",
    "                k3vy=-h*(MSunp*(y+k2y/2))/(((x+k2x/2)**2+(y+k2y/2)**2)**(3/2))\n",
    "                ###\n",
    "                k3x=h*(vx-(h/2)*(MSunp*(x+k2x/2))/(((x+k2x/2)**2+(y+k2y/2)**2)**(3/2)))\n",
    "                k3y=h*(vy-(h/2)*(MSunp*(y+k2y/2))/(((x+k2x/2)**2+(y+k2y/2)**2)**(3/2)))\n",
    "                ###\n",
    "                k4vx=-h*(MSunp*(x+k3x))/(((x+k3x)**2+(y+k3y)**2)**(3/2))\n",
    "                k4vy=-h*(MSunp*(y+k3y))/(((x+k3x)**2+(y+k3y)**2)**(3/2))\n",
    "                ###\n",
    "                k4x=h*(vx-h*(MSunp*(x+k3x))/(((x+k3x)**2+(y+k3y)**2)**(3/2)))\n",
    "                k4y=h*(vy-h*(MSunp*(y+k3y))/(((x+k3x)**2+(y+k3y)**2)**(3/2)))\n",
    "\n",
    "\n",
    "\n",
    "                xn = x+(1/6)*(k1x+2*k2x+2*k3x+k4x) #Evolve x and y\n",
    "                yn = y+(1/6)*(k2y+2*k2y+2*k3y+k4y)\n",
    "\n",
    "                vxn=vx+(1/6)*(k1vx+2*k2vx+2*k3vx+k4vx) #Evolve vx and vy\n",
    "                vyn=vy+(1/6)*(k2vy+2*k2vy+2*k3vy+k4vy)\n",
    "                x=xn\n",
    "                y=yn\n",
    "                vx=vxn\n",
    "                vy=vyn\n",
    "                if i==0:\n",
    "                    x_use=xn\n",
    "                    y_use=yn\n",
    "                    vx_use=vxn\n",
    "                    vy_use=vyn\n",
    "            x1=x\n",
    "            y1=y\n",
    "            vx1=vx\n",
    "            vy1=vy\n",
    "            x=x_store\n",
    "            y=y_store\n",
    "            vx=vx_store\n",
    "            vy=vy_store\n",
    "            hp=2*h #Run for duble step size\n",
    "            \n",
    "            \n",
    "            k1x=hp*vx\n",
    "            k1y=hp*vy\n",
    "            ###\n",
    "            k1vx=-hp*MSunp*x/((x**2+y**2)**(3/2)) \n",
    "            k1vy=-hp*MSunp*y/((x**2+y**2)**(3/2)) \n",
    "\n",
    "            k2vx=-hp*(MSunp*(x+k1x/2))/(((x+k1x/2)**2+(y+k1y/2)**2)**(3/2))\n",
    "            k2vy=-hp*(MSunp*(y+k1y/2))/(((x+k1x/2)**2+(y+k1y/2)**2)**(3/2))\n",
    "            ###\n",
    "            k2x=hp*(vx-(hp/2)*(MSunp*(x+k1x/2))/(((x+k1x/2)**2+(y+k1y/2)**2)**(3/2)))\n",
    "            k2y=hp*(vy-(hp/2)*(MSunp*(y+k1y/2))/(((x+k1x/2)**2+(y+k1y/2)**2)**(3/2)))\n",
    "            ###\n",
    "            k3vx=-hp*(MSunp*(x+k2x/2))/(((x+k2x/2)**2+(y+k2y/2)**2)**(3/2))\n",
    "            k3vy=-hp*(MSunp*(y+k2y/2))/(((x+k2x/2)**2+(y+k2y/2)**2)**(3/2))\n",
    "            ###\n",
    "            k3x=hp*(vx-(hp/2)*(MSunp*(x+k2x/2))/(((x+k2x/2)**2+(y+k2y/2)**2)**(3/2)))\n",
    "            k3y=hp*(vy-(hp/2)*(MSunp*(y+k2y/2))/(((x+k2x/2)**2+(y+k2y/2)**2)**(3/2)))\n",
    "            ###\n",
    "            k4vx=-hp*(MSunp*(x+k3x))/(((x+k3x)**2+(y+k3y)**2)**(3/2))\n",
    "            k4vy=-hp*(MSunp*(y+k3y))/(((x+k3x)**2+(y+k3y)**2)**(3/2))\n",
    "            ###\n",
    "            k4x=hp*(vx-hp*(MSunp*(x+k3x))/(((x+k3x)**2+(y+k3y)**2)**(3/2)))\n",
    "            k4y=hp*(vy-hp*(MSunp*(y+k3y))/(((x+k3x)**2+(y+k3y)**2)**(3/2)))\n",
    "\n",
    "\n",
    "\n",
    "            xn = x+(1/6)*(k1x+2*k2x+2*k3x+k4x) #Evolve x and y\n",
    "            yn = y+(1/6)*(k2y+2*k2y+2*k3y+k4y)\n",
    "\n",
    "            vxn=vx+(1/6)*(k1vx+2*k2vx+2*k3vx+k4vx) #Evolve vx and vy\n",
    "            vyn=vy+(1/6)*(k2vy+2*k2vy+2*k3vy+k4vy)\n",
    "            x2=xn\n",
    "            y2=yn\n",
    "            \n",
    "            rho=h*sigma*30/(abs(x1-x2))\n",
    "            if rho>1: #Good step\n",
    "                h=h*rho**(1/4)\n",
    "                xn=x_use\n",
    "                yn=y_use\n",
    "                vxn=vx_use\n",
    "                vyn=vy_use\n",
    "                break\n",
    "            else:\n",
    "                h=h*rho**(1/4)\n",
    "                k1x=h*vx\n",
    "                k1y=h*vy\n",
    "                ###\n",
    "                k1vx=-h*MSunp*x/((x**2+y**2)**(3/2)) \n",
    "                k1vy=-h*MSunp*y/((x**2+y**2)**(3/2)) \n",
    "\n",
    "                k2vx=-h*(MSunp*(x+k1x/2))/(((x+k1x/2)**2+(y+k1y/2)**2)**(3/2))\n",
    "                k2vy=-h*(MSunp*(y+k1y/2))/(((x+k1x/2)**2+(y+k1y/2)**2)**(3/2))\n",
    "                ###\n",
    "                k2x=h*(vx-(h/2)*(MSunp*(x+k1x/2))/(((x+k1x/2)**2+(y+k1y/2)**2)**(3/2)))\n",
    "                k2y=h*(vy-(h/2)*(MSunp*(y+k1y/2))/(((x+k1x/2)**2+(y+k1y/2)**2)**(3/2)))\n",
    "                ###\n",
    "                k3vx=-h*(MSunp*(x+k2x/2))/(((x+k2x/2)**2+(y+k2y/2)**2)**(3/2))\n",
    "                k3vy=-h*(MSunp*(y+k2y/2))/(((x+k2x/2)**2+(y+k2y/2)**2)**(3/2))\n",
    "                ###\n",
    "                k3x=h*(vx-(h/2)*(MSunp*(x+k2x/2))/(((x+k2x/2)**2+(y+k2y/2)**2)**(3/2)))\n",
    "                k3y=h*(vy-(h/2)*(MSunp*(y+k2y/2))/(((x+k2x/2)**2+(y+k2y/2)**2)**(3/2)))\n",
    "                ###\n",
    "                k4vx=-h*(MSunp*(x+k3x))/(((x+k3x)**2+(y+k3y)**2)**(3/2))\n",
    "                k4vy=-h*(MSunp*(y+k3y))/(((x+k3x)**2+(y+k3y)**2)**(3/2))\n",
    "                ###\n",
    "                k4x=h*(vx-h*(MSunp*(x+k3x))/(((x+k3x)**2+(y+k3y)**2)**(3/2)))\n",
    "                k4y=h*(vy-h*(MSunp*(y+k3y))/(((x+k3x)**2+(y+k3y)**2)**(3/2)))\n",
    "\n",
    "\n",
    "\n",
    "                xn = x+(1/6)*(k1x+2*k2x+2*k3x+k4x) #Evolve x and y\n",
    "                yn = y+(1/6)*(k2y+2*k2y+2*k3y+k4y)\n",
    "\n",
    "                vxn=vx+(1/6)*(k1vx+2*k2vx+2*k3vx+k4vx) #Evolve vx and vy\n",
    "                vyn=vy+(1/6)*(k2vy+2*k2vy+2*k3vy+k4vy)\n",
    "                break\n",
    "        x=xn\n",
    "        y=yn\n",
    "        vx=vxn\n",
    "        vy=vyn\n",
    "        t+=h\n",
    "        \n",
    "    return xpos,ypos"
   ]
  },
  {
   "cell_type": "code",
   "execution_count": 86,
   "metadata": {},
   "outputs": [
    {
     "name": "stdout",
     "output_type": "stream",
     "text": [
      "0\n"
     ]
    }
   ],
   "source": [
    "def M(t):\n",
    "    #while t>1.881:\n",
    "    #    t-=1.881\n",
    "    return (2.0*math.pi/1)*t-math.pi\n",
    "    \n",
    "\n",
    "def f(t,E):\n",
    "    \n",
    "    return E-e*np.sin(E)-M(t)\n",
    "def fprime(E):\n",
    "    \n",
    "    return 1.0-e*np.cos(E)\n",
    "time=1\n",
    "E=M(time)\n",
    "for i in range(100000):\n",
    "    Ep=E-(f(time,E)/fprime(E))\n",
    "    E=Ep\n",
    "    if f(time,E)==0:\n",
    "        print(i)\n",
    "        break\n",
    "x_exact=a*(np.cos(E)-e)\n",
    "y_exact=b*np.sin(E)"
   ]
  },
  {
   "cell_type": "code",
   "execution_count": 87,
   "metadata": {},
   "outputs": [
    {
     "data": {
      "text/plain": [
       "1508548287.6277275"
      ]
     },
     "execution_count": 87,
     "metadata": {},
     "output_type": "execute_result"
    }
   ],
   "source": [
    "from time import time\n",
    "time()"
   ]
  },
  {
   "cell_type": "code",
   "execution_count": 91,
   "metadata": {},
   "outputs": [
    {
     "name": "stdout",
     "output_type": "stream",
     "text": [
      "1.003913164138794\n"
     ]
    }
   ],
   "source": [
    "start=time()\n",
    "x,y=Rk4_ASS(1,0.0000001)\n",
    "stop=time()\n",
    "print(stop-start)"
   ]
  },
  {
   "cell_type": "code",
   "execution_count": 103,
   "metadata": {},
   "outputs": [
    {
     "name": "stdout",
     "output_type": "stream",
     "text": [
      "5.739411115646362\n"
     ]
    }
   ],
   "source": [
    "start=time()\n",
    "x,y,t,VerletE=Verlet(1,1000000)\n",
    "stop=time()\n",
    "print(stop-start)"
   ]
  },
  {
   "cell_type": "code",
   "execution_count": 104,
   "metadata": {},
   "outputs": [
    {
     "data": {
      "text/plain": [
       "-0.00017679470724707436"
      ]
     },
     "execution_count": 104,
     "metadata": {},
     "output_type": "execute_result"
    }
   ],
   "source": [
    "x[-1]-x_exact"
   ]
  },
  {
   "cell_type": "code",
   "execution_count": 498,
   "metadata": {},
   "outputs": [
    {
     "data": {
      "image/png": "[encoded data removed]",
      "text/plain": [
       "<matplotlib.figure.Figure at 0x7f8c5d303da0>"
      ]
     },
     "metadata": {},
     "output_type": "display_data"
    }
   ],
   "source": [
    "plt.plot(x,y,'k-')\n",
    "plt.plot(x[-1],y[-1],'bo')\n",
    "plt.plot(x_exact,y_exact, 'r*')\n",
    "plt.plot(0,0, 'yo',markersize='7')\n",
    "plt.show()"
   ]
  },
  {
   "cell_type": "code",
   "execution_count": 77,
   "metadata": {},
   "outputs": [
    {
     "name": "stdout",
     "output_type": "stream",
     "text": [
      "8.539794916714262\n"
     ]
    }
   ],
   "source": [
    "#For Mars only\n",
    "R=249.23*10**9 #distance, in m/semimajor axis\n",
    "T=31558118.4 #Time, second/sidereal yr\n",
    "G=6.67408*10**(-11) #Grav constant\n",
    "#Set G'=1 to get:\n",
    "M=(R**3)/(G*(T**2))\n",
    "MSun=1.989*10**30\n",
    "MSunp=MSun/M\n",
    "print(MSunp)\n",
    "\n",
    "a=(227.98*10**9)/R #Semi-major axis\n",
    "e=0.0934 #1233 #Eccentricity, by NASA\n",
    "b=a*(1-e**2)**(1/2) #Semi-minor axis\n",
    "\n",
    "x0=-1\n",
    "y0=0\n",
    "v0x=0\n",
    "v0y=-21.97*((10**3)/R)*T #Min orbital vel x 1/R (in km) x T"
   ]
  },
  {
   "cell_type": "code",
   "execution_count": 78,
   "metadata": {
    "collapsed": true
   },
   "outputs": [],
   "source": [
    "def MeanAnom(time):\n",
    "    while time>1.881: #For Mars only\n",
    "        time-=1.881\n",
    "    return (2.0*math.pi/1.881)*time-math.pi\n",
    "    \n",
    "def f(time,EcAn):\n",
    "    return EcAn-e*math.sin(EcAn)-MeanAnom(time)\n",
    "def fprime(EcAn):\n",
    "    return 1.0-e*math.cos(EcAn)\n"
   ]
  },
  {
   "cell_type": "code",
   "execution_count": 153,
   "metadata": {
    "collapsed": true
   },
   "outputs": [],
   "source": [
    "def NR():\n",
    "    time=5\n",
    "    E=MeanAnom(5)\n",
    "    for i in range(100000):\n",
    "        Ep=E-(f(time,E)/fprime(E))\n",
    "        E=Ep\n",
    "        if abs(f(time,E))<1e-15:\n",
    "            #print(i)\n",
    "            #print(E)\n",
    "            break\n",
    "    return E, i\n",
    "def Relax():\n",
    "    time=5\n",
    "    E=1\n",
    "    for i in range(100000):\n",
    "        Ep=e*math.sin(E)+MeanAnom(time)\n",
    "        if abs(E-Ep)<1e-15:\n",
    "            break\n",
    "        E=Ep\n",
    "    return E,i\n",
    "def Bisect():\n",
    "    #Use 1 and 2 as starting pts\n",
    "    a=1\n",
    "    b=2\n",
    "    fa=f(5,a)\n",
    "    fb=f(5,b)\n",
    "    for i in range(100000):\n",
    "        c=(b+a)/2\n",
    "        fc=f(5,c)\n",
    "        if abs(fc)<1e-15:\n",
    "            return c,i\n",
    "        elif fc<0:\n",
    "            a=c\n",
    "        else:\n",
    "            b=c\n",
    "def Secant():\n",
    "    a=1\n",
    "    b=2\n",
    "    \n",
    "    for i in range(100000):\n",
    "        fa=f(5,a)\n",
    "        fb=f(5,b)\n",
    "        c=b-fb*(b-a)/(fb-fa)\n",
    "        fc=f(5,c)\n",
    "        if abs(fc)<1e-15:\n",
    "            return c,i\n",
    "        else:\n",
    "            a=b\n",
    "            b=c\n",
    "        "
   ]
  },
  {
   "cell_type": "code",
   "execution_count": 154,
   "metadata": {},
   "outputs": [
    {
     "data": {
      "text/plain": [
       "(1.0759478620028082, 2)"
      ]
     },
     "execution_count": 154,
     "metadata": {},
     "output_type": "execute_result"
    }
   ],
   "source": [
    "NR()"
   ]
  },
  {
   "cell_type": "code",
   "execution_count": 155,
   "metadata": {},
   "outputs": [
    {
     "data": {
      "text/plain": [
       "(1.075947862002808, 11)"
      ]
     },
     "execution_count": 155,
     "metadata": {},
     "output_type": "execute_result"
    }
   ],
   "source": [
    "Relax()"
   ]
  },
  {
   "cell_type": "code",
   "execution_count": 156,
   "metadata": {},
   "outputs": [
    {
     "data": {
      "text/plain": [
       "(1.075947862002808, 48)"
      ]
     },
     "execution_count": 156,
     "metadata": {},
     "output_type": "execute_result"
    }
   ],
   "source": [
    "Bisect()"
   ]
  },
  {
   "cell_type": "code",
   "execution_count": 157,
   "metadata": {},
   "outputs": [
    {
     "data": {
      "text/plain": [
       "(1.0759478620028082, 4)"
      ]
     },
     "execution_count": 157,
     "metadata": {},
     "output_type": "execute_result"
    }
   ],
   "source": [
    "Secant()"
   ]
  },
  {
   "cell_type": "code",
   "execution_count": 105,
   "metadata": {},
   "outputs": [
    {
     "name": "stdout",
     "output_type": "stream",
     "text": [
      "-496159.0109085865\n"
     ]
    }
   ],
   "source": [
    "#For S2\n",
    "a=(1.425e+14) #Semi-major axis\n",
    "e=0.8760 #1233 #Eccentricity, by Wiki\n",
    "b=a*(1-e**2)**(1/2) #Semi-minor axis\n",
    "\n",
    "\n",
    "R=(1+e)*a #distance, in m/perihelion\n",
    "T=4.907e+8 #Time, second/sidereal yr\n",
    "G=(6.67408*10**(-11)) #Grav constant\n",
    "c=(3.0e+8)\n",
    "MSun=(1.988e+30) #Sun mass, in kg\n",
    "MBH=(4e+6)*MSun #BH mass, in kg\n",
    "\n",
    "\n",
    "\n",
    "x0=-R\n",
    "y0=0\n",
    "v0x=0\n",
    "v0y=-((G*MBH/a)*(1-e)/(1+e))**(1/2)\n",
    "print(v0y)"
   ]
  },
  {
   "cell_type": "code",
   "execution_count": 122,
   "metadata": {
    "collapsed": true
   },
   "outputs": [],
   "source": [
    "def S2Verlet(Tf,N):\n",
    "    t=0\n",
    "    x=x0\n",
    "    y=y0\n",
    "    \n",
    "    \n",
    "    h=Tf/N\n",
    "    r=(x**2+y**2)**(1/2)\n",
    "    #Get v at t+h/2\n",
    "    vx=v0x-(h/2)*(G*MBH*x)/((r**3))\n",
    "    vy=v0y-(h/2)*(G*MBH*y)/((r**3))\n",
    "    xpos=[]\n",
    "    ypos=[]\n",
    "    \n",
    "    time=np.arange(0,Tf+h,h)\n",
    "    while t<=Tf:\n",
    "        \n",
    "        xpos.append(x)\n",
    "        ypos.append(y)\n",
    "\n",
    "        xn=x+h*vx #Evolve x and y\n",
    "        yn=y+h*vy\n",
    "        r=(xn**2+yn**2)**(1/2)\n",
    "        kx=-h*(G*MBH*xn)/((r**3))\n",
    "        ky=-h*(G*MBH*yn)/((r**3))\n",
    "       \n",
    "        \n",
    "        vxn=vx+kx \n",
    "        vyn=vy+ky\n",
    "        \n",
    "        x=xn\n",
    "        y=yn\n",
    "        vx=vxn\n",
    "        vy=vyn\n",
    "        t+=h\n",
    "        \n",
    "    return xpos,ypos,time"
   ]
  },
  {
   "cell_type": "code",
   "execution_count": 124,
   "metadata": {},
   "outputs": [
    {
     "data": {
      "image/png": "[encoded data removed]",
      "text/plain": [
       "<matplotlib.figure.Figure at 0x7f7777d7ba20>"
      ]
     },
     "metadata": {},
     "output_type": "display_data"
    }
   ],
   "source": [
    "x,y,t=S2Verlet(50*T,1000000)\n",
    "plt.plot(x,y,'r-')\n",
    "#plt.plot(x[-1],y[-1],'bo')\n",
    "plt.plot(0,0,'ko',markersize='10')\n",
    "plt.title(\"S2 around Sagittarius A*\")\n",
    "plt.show()"
   ]
  },
  {
   "cell_type": "code",
   "execution_count": 121,
   "metadata": {},
   "outputs": [
    {
     "name": "stdout",
     "output_type": "stream",
     "text": [
      "-253082521083950.28 48609598170044.05\n"
     ]
    }
   ],
   "source": [
    "print(x[-1],y[-1])"
   ]
  },
  {
   "cell_type": "code",
   "execution_count": 119,
   "metadata": {},
   "outputs": [
    {
     "data": {
      "text/plain": [
       "267329999999999.97"
      ]
     },
     "execution_count": 119,
     "metadata": {},
     "output_type": "execute_result"
    }
   ],
   "source": [
    "R"
   ]
  },
  {
   "cell_type": "code",
   "execution_count": null,
   "metadata": {
    "collapsed": true
   },
   "outputs": [],
   "source": []
  }
 ],
 "metadata": {
  "kernelspec": {
   "display_name": "Python 3",
   "language": "python",
   "name": "python3"
  },
  "language_info": {
   "codemirror_mode": {
    "name": "ipython",
    "version": 3
   },
   "file_extension": ".py",
   "mimetype": "text/x-python",
   "name": "python",
   "nbconvert_exporter": "python",
   "pygments_lexer": "ipython3",
   "version": "3.6.3"
  }
 },
 "nbformat": 4,
 "nbformat_minor": 2
}
